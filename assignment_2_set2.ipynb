{
  "nbformat": 4,
  "nbformat_minor": 0,
  "metadata": {
    "colab": {
      "provenance": []
    },
    "kernelspec": {
      "name": "python3",
      "display_name": "Python 3"
    },
    "language_info": {
      "name": "python"
    }
  },
  "cells": [
    {
      "cell_type": "code",
      "source": [
        "import pandas as pd\n",
        "import numpy as np\n",
        "import matplotlib.pyplot as plt\n",
        "import scipy.stats as stats\n",
        "import seaborn as sns\n",
        "import statsmodels.api as smf\n",
        "import warnings\n",
        "warnings.filterwarnings('ignore')"
      ],
      "metadata": {
        "id": "S4PRZpgEAfeI"
      },
      "execution_count": null,
      "outputs": []
    },
    {
      "cell_type": "markdown",
      "source": [
        "# **Q-1**"
      ],
      "metadata": {
        "id": "EdEG-qeo5qJm"
      }
    },
    {
      "cell_type": "code",
      "execution_count": null,
      "metadata": {
        "colab": {
          "base_uri": "https://localhost:8080/"
        },
        "id": "E5C_CfwK43uP",
        "outputId": "11422e6b-2886-4daf-d74e-42a7e5acf2d4"
      },
      "outputs": [
        {
          "output_type": "stream",
          "name": "stdout",
          "text": [
            "The probability that the service manager cannot meet his commitment is 0.26599\n"
          ]
        }
      ],
      "source": [
        "#the serving work will began after 10 min of drop off so 45+10 which will now take more than the usual time so new mew is 55 minutes and the porbbaility that it will take more than 1 hour to complete.\n",
        "mew = 55\n",
        "std = 8\n",
        "X = stats.norm.sf(60, loc = mew, scale = std)\n",
        "print(\"\"\"The probability that the service manager cannot meet his commitment is\"\"\",np.round(X,5))"
      ]
    },
    {
      "cell_type": "markdown",
      "source": [
        "# **Q-2**"
      ],
      "metadata": {
        "id": "ZXoRnaGT5tmS"
      }
    },
    {
      "cell_type": "code",
      "source": [
        "mean = 38\n",
        "std1 = 6\n",
        "X_lessthan_38 = stats.norm.cdf(38, loc = mean, scale = std1)\n",
        "\n",
        "\n",
        "X_less_than_44 = stats.norm.cdf(44, loc = mean,  scale = std1)\n",
        "\n",
        "\n",
        "X_betweeen_38_and_44 = (X_less_than_44 - X_lessthan_38)\n",
        "print('The probability of employee age betweeen 38 and 44 is',np.round(X_betweeen_38_and_44*100,2),'%')\n",
        "\n",
        "X_morethan_44 = 1-stats.norm.cdf(44, loc = mean, scale = std1)\n",
        "print('The probability of employee age more than 44 is',np.round(X_morethan_44*100,2),'%')\n",
        "\n",
        "true_or_false = (X_morethan_44 > X_betweeen_38_and_44)\n",
        "print('Answer:',true_or_false)"
      ],
      "metadata": {
        "colab": {
          "base_uri": "https://localhost:8080/"
        },
        "id": "zfnTSWxq5B0w",
        "outputId": "3188a290-1288-47d0-b36a-b7457986859c"
      },
      "execution_count": null,
      "outputs": [
        {
          "output_type": "stream",
          "name": "stdout",
          "text": [
            "The probability of employee age betweeen 38 and 44 is 34.13 %\n",
            "The probability of employee age more than 44 is 15.87 %\n",
            "Answer: False\n"
          ]
        }
      ]
    },
    {
      "cell_type": "code",
      "source": [
        "Y = stats.norm.cdf(30, loc = mean, scale = std1)\n",
        "print(\"\"\"A training program for employees under the age of 30 at the center would be expected to attract about\"\"\"\n",
        "      ,np.round((Y*400),0),'employees')"
      ],
      "metadata": {
        "colab": {
          "base_uri": "https://localhost:8080/"
        },
        "id": "XnTzN7PmCNmn",
        "outputId": "5720e3d1-9a33-4dc1-98d3-92d5af5fbd28"
      },
      "execution_count": null,
      "outputs": [
        {
          "output_type": "stream",
          "name": "stdout",
          "text": [
            "A training program for employees under the age of 30 at the center would be expected to attract about 36.0 employees\n"
          ]
        }
      ]
    },
    {
      "cell_type": "code",
      "source": [],
      "metadata": {
        "id": "Yfo7vD9MGYdO"
      },
      "execution_count": null,
      "outputs": []
    },
    {
      "cell_type": "markdown",
      "source": [
        "# **Q-4**"
      ],
      "metadata": {
        "id": "hJ489MpN55Q8"
      }
    },
    {
      "cell_type": "code",
      "source": [
        "print(\"\"\"The two values of a and b, symmetric about the mean,\n",
        "      are such that the probability of the random variable\n",
        "      taking a value between them is 0.99:\"\"\",np.round(stats.norm.interval(0.99, loc = 100, scale = 20),1))"
      ],
      "metadata": {
        "colab": {
          "base_uri": "https://localhost:8080/"
        },
        "id": "WJzwWXTL5Fg0",
        "outputId": "ed103f88-4194-4c0a-fa84-28dfb07e845b"
      },
      "execution_count": null,
      "outputs": [
        {
          "output_type": "stream",
          "name": "stdout",
          "text": [
            "The two values of a and b, symmetric about the mean, \n",
            "      are such that the probability of the random variable \n",
            "      taking a value between them is 0.99: [ 48.5 151.5]\n"
          ]
        }
      ]
    },
    {
      "cell_type": "markdown",
      "source": [
        "# **Q-5**"
      ],
      "metadata": {
        "id": "nbzXizDQ6QSB"
      }
    },
    {
      "cell_type": "markdown",
      "source": [
        "# A"
      ],
      "metadata": {
        "id": "Br37OW8eHV1x"
      }
    },
    {
      "cell_type": "code",
      "source": [
        "#Combine Mean Profit of both division for Company= mean1 + mean2\n",
        "meanA = 5\n",
        "meanB = 7\n",
        "stats.median_abs_deviation = 7\n",
        "Mean = (meanA+meanB) # 1 USD = 45 rupees\n",
        "print('The Mean Profit of both division:',Mean, 'Million$')\n",
        "print('The Mean Profit of both division:',(Mean*45)/10, 'Crore Rupees')"
      ],
      "metadata": {
        "colab": {
          "base_uri": "https://localhost:8080/"
        },
        "id": "EbPHgj4j5NSq",
        "outputId": "f873d903-a5b2-485c-9b9d-755352f09207"
      },
      "execution_count": null,
      "outputs": [
        {
          "output_type": "stream",
          "name": "stdout",
          "text": [
            "The Mean Profit of both division: 12 Million$\n",
            "The Mean Profit of both division: 54.0 Crore Rupees\n"
          ]
        }
      ]
    },
    {
      "cell_type": "code",
      "source": [
        "#Combine standard Deviation = (StdA^2 + StdB^2)^1/2\n",
        "stdA = 3**2\n",
        "stdB = 4**2\n",
        "Std = np.sqrt(stdA + stdB)\n",
        "print('The Standard Deviation of both division:', Std, 'Million$')\n",
        "print('The Standard Deviation of both division:', (Std*45)/10, 'Crore Rupees')\n"
      ],
      "metadata": {
        "colab": {
          "base_uri": "https://localhost:8080/"
        },
        "id": "A6D5rTn4G0wG",
        "outputId": "f75835c4-6bfe-4bcd-8d0d-c5e953e0e983"
      },
      "execution_count": null,
      "outputs": [
        {
          "output_type": "stream",
          "name": "stdout",
          "text": [
            "The Standard Deviation of both division: 5.0 Million$\n",
            "The Standard Deviation of both division: 22.5 Crore Rupees\n"
          ]
        }
      ]
    },
    {
      "cell_type": "code",
      "source": [
        "R1, R2 = np.round(stats.norm.interval(0.95, Mean, Std),2)\n",
        "print('Rupee Ranges from',R1,'to',R2,'Million$ in Annual profit of the Company 95% of the time')\n",
        "print('Rupee Ranges from',np.divide(np.multiply(R1,45),10),'to',np.divide(np.multiply(R2,45),10),'Crore Rupees in Annual profit of the Company 95% of the time')"
      ],
      "metadata": {
        "colab": {
          "base_uri": "https://localhost:8080/"
        },
        "id": "9CWu8DLj5ay6",
        "outputId": "f2d9d945-a781-4920-b088-ac46780865b4"
      },
      "execution_count": null,
      "outputs": [
        {
          "output_type": "stream",
          "name": "stdout",
          "text": [
            "Rupee Ranges from 2.2 to 21.8 Million$ in Annual profit of the Company 95% of the time\n",
            "Rupee Ranges from 9.900000000000002 to 98.1 Crore Rupees in Annual profit of the Company 95% of the time\n"
          ]
        }
      ]
    },
    {
      "cell_type": "markdown",
      "source": [
        "# B"
      ],
      "metadata": {
        "id": "6VlPkFEQHgnA"
      }
    },
    {
      "cell_type": "code",
      "source": [
        "#Z value  = X_bar - Mew / Std pop\n",
        "#for percentile, X_percentile = (Zvalue * Std pop) + Mew\n",
        "Z_05 = stats.norm.ppf(0.05)\n",
        "Fifth_percentile = (Z_05 * Std) + Mean\n",
        "print('The 5th percentile of Profit for the company is',np.round(Fifth_percentile,2),'Million$')\n",
        "print('The 5th percentile of Profit for the company is',np.round((Fifth_percentile*45)/10,),'Crore Rupees')"
      ],
      "metadata": {
        "colab": {
          "base_uri": "https://localhost:8080/"
        },
        "id": "LyKgWIqw5cgN",
        "outputId": "86dce66f-e57c-44be-852f-f20d55aa3a8a"
      },
      "execution_count": null,
      "outputs": [
        {
          "output_type": "stream",
          "name": "stdout",
          "text": [
            "The 5th percentile of Profit for the company is 3.78 Million$\n",
            "The 5th percentile of Profit for the company is 17.0 Crore Rupees\n"
          ]
        }
      ]
    },
    {
      "cell_type": "markdown",
      "source": [
        "# C"
      ],
      "metadata": {
        "id": "SAFOP8ahJqns"
      }
    },
    {
      "cell_type": "code",
      "source": [
        "# The probability of Division #1 making a loss\n",
        "print('The Probability of Division #1 making a loss is',np.round((stats.norm.cdf(0,5,3))*100,2),'%')\n",
        "\n",
        "# The probability of Division #2 making a loss\n",
        "print('The Probability of Division #2 making a loss is',np.round((stats.norm.cdf(0,7,4))*100,2),'%')\n",
        "\n",
        "Division1 = (stats.norm.cdf(0,5,3))*100\n",
        "Division2 = (stats.norm.cdf(0,7,4))*100\n",
        "\n",
        "if Division1>Division2:\n",
        "    print('The Division 1 has a larger Probability of making a loss')\n",
        "else:\n",
        "          print('The Division 2 has a larger Porbability of making a loss')\n"
      ],
      "metadata": {
        "colab": {
          "base_uri": "https://localhost:8080/"
        },
        "id": "FtTTnW7I5jkT",
        "outputId": "a8f9e9be-902e-491b-fccc-bbcbca485b81"
      },
      "execution_count": null,
      "outputs": [
        {
          "output_type": "stream",
          "name": "stdout",
          "text": [
            "The Probability of Division #1 making a loss is 4.78 %\n",
            "The Probability of Division #2 making a loss is 4.01 %\n",
            "The Division 1 has a larger Probability of making a loss\n"
          ]
        }
      ]
    }
  ]
}